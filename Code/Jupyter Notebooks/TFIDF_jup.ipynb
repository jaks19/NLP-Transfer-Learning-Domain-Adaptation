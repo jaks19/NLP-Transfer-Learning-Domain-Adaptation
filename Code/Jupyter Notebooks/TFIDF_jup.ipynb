{
 "cells": [
  {
   "cell_type": "code",
   "execution_count": 18,
   "metadata": {},
   "outputs": [],
   "source": [
    "from parameters import *\n",
    "\n",
    "from preprocess_datapoints import *\n",
    "from preprocess_text_to_tensors import *\n",
    "from meter import *\n",
    "\n",
    "import torch\n",
    "from torch.autograd import Variable\n",
    "\n",
    "\n",
    "''' Data processing helpers only for TF-IDF implementation '''\n",
    "\n",
    "def process_only_andoid_corpus():\n",
    "    dataset_path = android_corpus_path\n",
    "    all_txt = []\n",
    "    android_id_to_data = {}\n",
    "\n",
    "    lines = open(dataset_path).readlines()\n",
    "    for line in lines:\n",
    "        id_title_body_list = line.split('\\t')\n",
    "        idx = int(id_title_body_list[0])\n",
    "        title_plus_body = id_title_body_list[1] + ' ' + id_title_body_list[2][:-1]\n",
    "        all_txt.append(title_plus_body)\n",
    "        android_id_to_data[idx] = title_plus_body\n",
    "        \n",
    "    vectorizer = CountVectorizer(binary=True, analyzer='word', max_df = 0.1)\n",
    "    vectorizer.fit(all_txt)\n",
    "\n",
    "    return {\n",
    "            'android_id_to_data': android_id_to_data,\n",
    "            'vectorizer': vectorizer\n",
    "            }\n",
    "\n",
    "\n",
    "''' Data Sets '''\n",
    "processed_corpus = process_only_andoid_corpus()\n",
    "android_id_to_data = processed_corpus['android_id_to_data']\n",
    "vectorizer = processed_corpus['vectorizer']\n",
    "\n",
    "test_data_android = android_id_to_similar_different(dev=False)\n",
    "test_question_ids_android = list(test_data_android.keys())\n",
    "\n",
    "auc_scorer = AUCMeter()"
   ]
  },
  {
   "cell_type": "code",
   "execution_count": 19,
   "metadata": {},
   "outputs": [
    {
     "name": "stdout",
     "output_type": "stream",
     "text": [
      "AUC Score using TF-IDF: 0.608152029121\n"
     ]
    }
   ],
   "source": [
    "''' Begin Evaluation'''\n",
    "candidate_ids, q_main_ids, labels = organize_test_ids(test_question_ids_android, test_data_android)\n",
    "list_of_scores = []\n",
    "\n",
    "index_into_list_all_all_candidate_ids = 0\n",
    "for q_main_id, num_associated_questions in q_main_ids:    \n",
    "    \n",
    "    q_main_sentence = android_id_to_data[q_main_id]\n",
    "    q_main_vector = torch.FloatTensor(vectorizer.transform([q_main_sentence]).toarray()[0]).unsqueeze(0)\n",
    "    \n",
    "    for k in range(num_associated_questions):\n",
    "\n",
    "        q_candidate_id = candidate_ids[index_into_list_all_all_candidate_ids]\n",
    "        q_candidate_sentence = android_id_to_data[q_candidate_id]\n",
    "        q_candidate_vector = torch.FloatTensor(vectorizer.transform([q_candidate_sentence]).toarray()[0]).unsqueeze(0)\n",
    "        \n",
    "        score_cos_sim = torch.nn.functional.cosine_similarity(q_candidate_vector, q_main_vector)[0]\n",
    "        list_of_scores.append(score_cos_sim)\n",
    "        \n",
    "        index_into_list_all_all_candidate_ids += 1\n",
    "        \n",
    "\n",
    "# print(list_of_scores)\n",
    "target = torch.FloatTensor(labels)\n",
    "auc_scorer.reset()\n",
    "auc_scorer.add(torch.FloatTensor(list_of_scores), target)\n",
    "auc_score = auc_scorer.value()\n",
    "\n",
    "print(\"AUC Score using TF-IDF:\", auc_score)"
   ]
  }
 ],
 "metadata": {
  "kernelspec": {
   "display_name": "Python 3",
   "language": "python",
   "name": "python3"
  },
  "language_info": {
   "codemirror_mode": {
    "name": "ipython",
    "version": 3
   },
   "file_extension": ".py",
   "mimetype": "text/x-python",
   "name": "python",
   "nbconvert_exporter": "python",
   "pygments_lexer": "ipython3",
   "version": "3.6.3"
  }
 },
 "nbformat": 4,
 "nbformat_minor": 2
}
