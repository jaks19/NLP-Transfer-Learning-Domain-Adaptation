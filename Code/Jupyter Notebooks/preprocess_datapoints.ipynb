{
 "cells": [
  {
   "cell_type": "code",
   "execution_count": 33,
   "metadata": {},
   "outputs": [
    {
     "name": "stdout",
     "output_type": "stream",
     "text": [
      "[[63630, 60022], [63630, 60022, 71347, 38297, 158664, 109655, 98904, 120679, 141794, 51191, 52988, 75302, 137073, 40136, 29273, 85194, 42801, 29952, 116438, 36097]]\n"
     ]
    }
   ],
   "source": [
    "from collections import defaultdict\n",
    "\n",
    "# For Direct Transfer, training:\n",
    "# Ubuntu main question id mapped to [[similar_questions_ids], [different_questions_ids]]\n",
    "def ubuntu_id_to_similar_different():\n",
    "    filepath = \"../ubuntu_dataset/train_random.txt\"\n",
    "    lines = open(filepath, encoding = 'utf8').readlines()\n",
    "\n",
    "    training_data = {}\n",
    "    for line in lines:\n",
    "        id_similarids_diffids = line.split('\\t')\n",
    "        question_id = int(id_similarids_diffids[0])\n",
    "        similar_ids = id_similarids_diffids[1].split(\" \")\n",
    "        different_ids = id_similarids_diffids[2].split(\" \")\n",
    "\n",
    "        for i in range(len(similar_ids)): similar_ids[i] = int(similar_ids[i])\n",
    "        for j in range(len(different_ids)): different_ids[j] = int(different_ids[j])\n",
    "\n",
    "        training_data[question_id] = [ similar_ids, different_ids ]\n",
    "    return training_data\n",
    "\n",
    "\n",
    "# For Direct Transfer eval, and testing:\n",
    "# Android main question id mapped to [[similar_questions_ids], [different_questions_ids]]\n",
    "# For dev set, use dev=True, for test set use dev=False\n",
    "# Note: May have more than one similar and [similar_questions_ids] is a subset of [all_questions_ids]\n",
    "def android_id_to_similar_different(dev=True):\n",
    "    if dev:\n",
    "        pos_filepath = '../android_dataset/dev.pos.txt'\n",
    "        neg_filepath = '../android_dataset/dev.neg.txt'\n",
    "    else:\n",
    "        pos_filepath = '../android_dataset/test.pos.txt'\n",
    "        neg_filepath = '../android_dataset/test.neg.txt'\n",
    "        \n",
    "    pos_lines = open(pos_filepath, encoding = 'utf8').readlines()\n",
    "    neg_lines = open(neg_filepath, encoding = 'utf8').readlines()    \n",
    "    \n",
    "    evaluation_data = defaultdict(lambda: [[],[]])\n",
    "    for lines_set in [pos_lines, neg_lines]:\n",
    "        if lines_set == pos_lines: pos = True\n",
    "        else: pos = False\n",
    "            \n",
    "        for line in lines_set:\n",
    "            main_q_id = int(line.split()[0])\n",
    "            if len(evaluation_data[main_q_id][1]) == 20: continue\n",
    "                \n",
    "            associated = int(line.split()[1])\n",
    "            if pos: \n",
    "                evaluation_data[main_q_id][0].append(associated)\n",
    "                evaluation_data[main_q_id][1].append(associated)\n",
    "            else: \n",
    "                evaluation_data[main_q_id][1].append(associated)\n",
    "\n",
    "    return evaluation_data\n",
    "\n",
    "# training_data = ubuntu_id_to_similar_different():\n",
    "# dev_data = android_id_to_similar_different(dev=True)\n",
    "# test_data = android_id_to_similar_different(dev=False)"
   ]
  },
  {
   "cell_type": "code",
   "execution_count": null,
   "metadata": {},
   "outputs": [],
   "source": []
  }
 ],
 "metadata": {
  "kernelspec": {
   "display_name": "Python 3",
   "language": "python",
   "name": "python3"
  },
  "language_info": {
   "codemirror_mode": {
    "name": "ipython",
    "version": 3
   },
   "file_extension": ".py",
   "mimetype": "text/x-python",
   "name": "python",
   "nbconvert_exporter": "python",
   "pygments_lexer": "ipython3",
   "version": "3.6.3"
  }
 },
 "nbformat": 4,
 "nbformat_minor": 2
}
